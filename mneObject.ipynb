{
 "cells": [
  {
   "cell_type": "markdown",
   "metadata": {},
   "source": [
    "Connected to psychopy_enV (Python 3.8.20)"
   ]
  },
  {
   "cell_type": "code",
   "execution_count": null,
   "id": "63d2a3b1-28db-4f23-9994-7bc56bb6254f",
   "metadata": {},
   "outputs": [
    {
     "name": "stderr",
     "output_type": "stream",
     "text": [
      "2025-04-11 13:30:39,013 - [INFO] - Connecting to Explore_849D ...\n",
      "2025-04-11 13:30:43,239 - [INFO] - Waiting for device info packet...\n",
      "2025-04-11 13:30:44,243 - [INFO] - Device info packet has been received. Connection has been established. Streaming...\n",
      "2025-04-11 13:30:44,245 - [INFO] - Device info: {'device_name': 'Explore_849D', 'firmware_version': '2.1.5', 'adc_mask': [1, 1, 1, 1, 1, 1, 1, 1], 'sampling_rate': 250.0}\n",
      "2025-04-11 13:30:44,248 - [INFO] - Sending the command: Host timestamp\n",
      "2025-04-11 13:30:44,250 - [INFO] - Command has been sent successfully.\n",
      "2025-04-11 13:30:44,251 - [INFO] - Sending the command: Set sampling rate command\n",
      "2025-04-11 13:30:44,252 - [INFO] - Command has been sent successfully.\n",
      "2025-04-11 13:30:44,253 - [INFO] - waiting for ack and status messages...\n",
      "2025-04-11 13:30:45,263 - [INFO] - Command has been received by Explore.\n",
      "2025-04-11 13:30:45,266 - [INFO] - Command has been successfully executed by the device.\n"
     ]
    },
    {
     "name": "stdout",
     "output_type": "stream",
     "text": [
      "30 sec\n",
      "[[-373711.68 -378316.02 -371440.26 ... -362382.41 -371590.32 -378278.83]\n",
      " [-372922.32 -374081.85 -372471.   ... -369779.11 -372013.57 -373906.94]\n",
      " [-372984.17 -374152.09 -372952.84 ... -370536.71 -372371.34 -373924.01]\n",
      " ...\n",
      " [-371942.52 -373857.02 -371357.49 ... -367413.04 -370931.72 -373632.24]\n",
      " [-366201.44 -374225.66 -362935.63 ... -347925.18 -363571.02 -375130.17]\n",
      " [-372182.46 -374865.2  -373577.45 ... -368211.69 -370700.02 -373956.06]]\n"
     ]
    }
   ],
   "source": [
    "import explorepy\n",
    "import time\n",
    "from explorepy.stream_processor import TOPICS\n",
    "import numpy as np\n",
    "def main():\n",
    "    #Headset Setup\n",
    "    \n",
    "    headset_name = 'Explore_849D' \n",
    "    sample_rate = 250\n",
    "    channel_dict = {\n",
    "            0: 'TP9',\n",
    "            1: 'Fz', 2: 'C3', 3: 'Cz', 4: 'C4', 5: 'P3', 6: 'P4', 7: 'Fz', 8: 'TP10'\n",
    "        }\n",
    "    explorer = explorepy.Explore()\n",
    "    explorer.connect(device_name=headset_name)\n",
    "    explorer.set_sampling_rate(sample_rate)\n",
    "\n",
    "    global eeg_list\n",
    "    eeg_list = []\n",
    "\n",
    "    def eeg_callback(packet):\n",
    "        global time_data\n",
    "        t_vector , exg_data = packet.get_data()\n",
    "        eeg_list.append(exg_data)\n",
    "    \n",
    "    explorer.stream_processor.subscribe(callback=eeg_callback, topic=TOPICS.raw_ExG)\n",
    "\n",
    "    print('30 sec')\n",
    "    time.sleep(5)\n",
    "\n",
    "    global eeg_raw\n",
    "    eeg_raw = np.concatenate(eeg_list, axis= -1)\n",
    "    print(eeg_raw)\n",
    "    \n",
    "\n",
    "\n",
    "\n",
    "\n",
    "    \n",
    "main()"
   ]
  },
  {
   "cell_type": "code",
   "execution_count": null,
   "metadata": {},
   "outputs": [
    {
     "name": "stdout",
     "output_type": "stream",
     "text": [
      "[[-373711.68 -378316.02 -371440.26 ... -362382.41 -371590.32 -378278.83]\n",
      " [-372922.32 -374081.85 -372471.   ... -369779.11 -372013.57 -373906.94]\n",
      " [-372984.17 -374152.09 -372952.84 ... -370536.71 -372371.34 -373924.01]\n",
      " ...\n",
      " [-371942.52 -373857.02 -371357.49 ... -367413.04 -370931.72 -373632.24]\n",
      " [-366201.44 -374225.66 -362935.63 ... -347925.18 -363571.02 -375130.17]\n",
      " [-372182.46 -374865.2  -373577.45 ... -368211.69 -370700.02 -373956.06]]\n"
     ]
    }
   ],
   "source": [
    "print(eeg_raw)"
   ]
  },
  {
   "cell_type": "code",
   "execution_count": null,
   "metadata": {},
   "outputs": [
    {
     "data": {
      "text/plain": [
       "(8, 1248)"
      ]
     },
     "execution_count": 3,
     "metadata": {},
     "output_type": "execute_result"
    }
   ],
   "source": [
    "eeg_raw.shape"
   ]
  },
  {
   "cell_type": "code",
   "execution_count": null,
   "metadata": {},
   "outputs": [],
   "source": [
    "import mne"
   ]
  },
  {
   "cell_type": "code",
   "execution_count": null,
   "metadata": {},
   "outputs": [
    {
     "name": "stdout",
     "output_type": "stream",
     "text": [
      "Creating RawArray with float64 data, n_channels=8, n_times=1248\n",
      "    Range : 0 ... 1247 =      0.000 ...     4.988 secs\n",
      "Ready.\n"
     ]
    }
   ],
   "source": [
    "info = mne.create_info(ch_names=['ch1', 'ch2', 'ch3', 'ch4', 'ch5', 'ch6', 'ch7', 'ch8'], sfreq=250, ch_types='eeg')\n",
    "mne_data = mne.io.RawArray(eeg_raw, info)"
   ]
  }
 ],
 "metadata": {
  "kernelspec": {
   "display_name": "psychopy_enV",
   "language": "python",
   "name": "python3"
  },
  "language_info": {
   "codemirror_mode": {
    "name": "ipython",
    "version": 3
   },
   "file_extension": ".py",
   "mimetype": "text/x-python",
   "name": "python",
   "nbconvert_exporter": "python",
   "pygments_lexer": "ipython3",
   "version": "3.8.20"
  }
 },
 "nbformat": 4,
 "nbformat_minor": 5
}

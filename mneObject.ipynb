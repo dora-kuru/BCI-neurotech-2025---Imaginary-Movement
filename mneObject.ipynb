{
 "cells": [
  {
   "cell_type": "markdown",
   "metadata": {},
   "source": [
    "Connected to psychopy_enV (Python 3.8.20)"
   ]
  },
  {
   "cell_type": "code",
   "execution_count": null,
   "id": "63d2a3b1-28db-4f23-9994-7bc56bb6254f",
   "metadata": {},
   "outputs": [
    {
     "name": "stderr",
     "output_type": "stream",
     "text": [
      "2025-04-21 17:34:05,144 - [INFO] - Connecting to Explore_849D ...\n",
      "2025-04-21 17:34:11,006 - [INFO] - Waiting for device info packet...\n",
      "2025-04-21 17:34:12,008 - [INFO] - Device info packet has been received. Connection has been established. Streaming...\n",
      "2025-04-21 17:34:12,011 - [INFO] - Device info: {'device_name': 'Explore_849D', 'firmware_version': '2.1.5', 'adc_mask': [1, 1, 1, 1, 1, 1, 1, 1], 'sampling_rate': 250.0}\n",
      "2025-04-21 17:34:12,012 - [INFO] - Sending the command: Host timestamp\n",
      "2025-04-21 17:34:12,014 - [INFO] - Command has been sent successfully.\n",
      "2025-04-21 17:34:12,015 - [INFO] - Sending the command: Set sampling rate command\n",
      "2025-04-21 17:34:12,016 - [INFO] - Command has been sent successfully.\n",
      "2025-04-21 17:34:12,017 - [INFO] - waiting for ack and status messages...\n",
      "2025-04-21 17:34:13,025 - [INFO] - Command has been received by Explore.\n",
      "2025-04-21 17:34:13,026 - [INFO] - Command has been successfully executed by the device.\n"
     ]
    },
    {
     "name": "stdout",
     "output_type": "stream",
     "text": [
      "30 sec\n",
      "[[-372285.08 -365561.29 -367845.29 ... -371151.3  -366147.04 -370439.14]\n",
      " [-370926.42 -355701.73 -360438.01 ... -368638.75 -357162.8  -366582.2 ]\n",
      " [-373879.76 -367170.71 -369114.16 ... -372892.85 -367808.72 -371765.85]\n",
      " ...\n",
      " [-372776.27 -368584.25 -370208.12 ... -371847.24 -368810.32 -371722.46]\n",
      " [-364941.5  -360078.   -361701.01 ... -364242.45 -360674.09 -363772.77]\n",
      " [-372780.42 -368146.51 -370336.34 ... -371823.4  -368595.17 -372250.46]]\n"
     ]
    },
    {
     "name": "stderr",
     "output_type": "stream",
     "text": [
      "2025-04-21 17:46:50,312 - [WARNING] - Device has been disconnected! Scanning for the last connected device...\n",
      "2025-04-21 17:46:50,321 - [WARNING] - Couldn't connect to the device. Trying to reconnect...\n"
     ]
    }
   ],
   "source": [
    "import explorepy\n",
    "import time\n",
    "from explorepy.stream_processor import TOPICS\n",
    "import numpy as np\n",
    "def main():\n",
    "    #Headset Setup\n",
    "    \n",
    "    headset_name = 'Explore_849D' \n",
    "    sample_rate = 250\n",
    "    channel_dict = {\n",
    "            0: 'TP9',\n",
    "            1: 'Fz', 2: 'C3', 3: 'Cz', 4: 'C4', 5: 'P3', 6: 'P4', 7: 'Fz', 8: 'TP10'\n",
    "        }\n",
    "    explorer = explorepy.Explore()\n",
    "    explorer.connect(device_name=headset_name)\n",
    "    explorer.set_sampling_rate(sample_rate)\n",
    "\n",
    "    global eeg_list\n",
    "    eeg_list = []\n",
    "\n",
    "    def eeg_callback(packet):\n",
    "        global time_data\n",
    "        t_vector , exg_data = packet.get_data()\n",
    "        eeg_list.append(exg_data)\n",
    "    \n",
    "    explorer.stream_processor.subscribe(callback=eeg_callback, topic=TOPICS.raw_ExG)\n",
    "\n",
    "    print('30 sec')\n",
    "    time.sleep(20)\n",
    "\n",
    "    global eeg_raw\n",
    "    eeg_raw = np.concatenate(eeg_list, axis= -1)\n",
    "    print(eeg_raw)\n",
    "    explorer.stop_recording()\n",
    "    explorer.disconnect()\n",
    "    \n",
    "\n",
    "\n",
    "\n",
    "\n",
    "    \n",
    "main()"
   ]
  },
  {
   "cell_type": "code",
   "execution_count": 10,
   "metadata": {},
   "outputs": [
    {
     "name": "stdout",
     "output_type": "stream",
     "text": [
      "[[-382536.12 -390156.27 -377562.9  ... -360598.27 -374593.73 -384394.6 ]\n",
      " [-383876.32 -398967.5  -375397.92 ... -348170.04 -371766.8  -388881.21]\n",
      " [-383508.78 -391634.08 -379987.71 ... -367824.41 -374928.61 -380919.07]\n",
      " ...\n",
      " [-381727.93 -386018.04 -378099.77 ... -369861.69 -376575.28 -381098.84]\n",
      " [-373776.39 -379179.95 -370751.52 ... -358807.32 -367949.53 -374098.3 ]\n",
      " [-382968.28 -387367.82 -378158.9  ... -368344.3  -377502.68 -383068.89]]\n"
     ]
    }
   ],
   "source": [
    "print(eeg_raw)"
   ]
  },
  {
   "cell_type": "code",
   "execution_count": 18,
   "metadata": {},
   "outputs": [
    {
     "data": {
      "text/plain": [
       "(8, 5008)"
      ]
     },
     "execution_count": 18,
     "metadata": {},
     "output_type": "execute_result"
    }
   ],
   "source": [
    "eeg_raw.shape"
   ]
  },
  {
   "cell_type": "code",
   "execution_count": 12,
   "metadata": {},
   "outputs": [],
   "source": [
    "import mne"
   ]
  },
  {
   "cell_type": "code",
   "execution_count": 19,
   "metadata": {},
   "outputs": [
    {
     "name": "stdout",
     "output_type": "stream",
     "text": [
      "Creating RawArray with float64 data, n_channels=8, n_times=5008\n",
      "    Range : 0 ... 5007 =      0.000 ...    20.028 secs\n",
      "Ready.\n"
     ]
    }
   ],
   "source": [
    "info = mne.create_info(ch_names=['ch1', 'ch2', 'ch3', 'ch4', 'ch5', 'ch6', 'ch7', 'ch8'], sfreq=250, ch_types='eeg')\n",
    "mne_data = mne.io.RawArray(eeg_raw, info)"
   ]
  }
 ],
 "metadata": {
  "kernelspec": {
   "display_name": "psychopy_enV",
   "language": "python",
   "name": "python3"
  },
  "language_info": {
   "codemirror_mode": {
    "name": "ipython",
    "version": 3
   },
   "file_extension": ".py",
   "mimetype": "text/x-python",
   "name": "python",
   "nbconvert_exporter": "python",
   "pygments_lexer": "ipython3",
   "version": "3.8.20"
  }
 },
 "nbformat": 4,
 "nbformat_minor": 5
}
